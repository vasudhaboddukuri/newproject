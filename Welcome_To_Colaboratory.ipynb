{
  "nbformat": 4,
  "nbformat_minor": 0,
  "metadata": {
    "colab": {
      "name": "Welcome To Colaboratory",
      "provenance": [],
      "collapsed_sections": [],
      "toc_visible": true,
      "machine_shape": "hm",
      "include_colab_link": true
    },
    "kernelspec": {
      "name": "python3",
      "display_name": "Python 3"
    },
    "accelerator": "GPU"
  },
  "cells": [
    {
      "cell_type": "markdown",
      "metadata": {
        "id": "view-in-github",
        "colab_type": "text"
      },
      "source": [
        "<a href=\"https://colab.research.google.com/github/vasudhaboddukuri/newproject/blob/master/Welcome_To_Colaboratory.ipynb\" target=\"_parent\"><img src=\"https://colab.research.google.com/assets/colab-badge.svg\" alt=\"Open In Colab\"/></a>"
      ]
    },
    {
      "cell_type": "code",
      "metadata": {
        "id": "EoQg9JwcFM_0",
        "colab_type": "code",
        "colab": {
          "base_uri": "https://localhost:8080/",
          "height": 54
        },
        "outputId": "ded6c829-0ea6-47c9-fb7f-9cfcff7a9552"
      },
      "source": [
        "from google.colab import drive\n",
        "drive.mount('/content/drive')"
      ],
      "execution_count": 80,
      "outputs": [
        {
          "output_type": "stream",
          "text": [
            "Drive already mounted at /content/drive; to attempt to forcibly remount, call drive.mount(\"/content/drive\", force_remount=True).\n"
          ],
          "name": "stdout"
        }
      ]
    },
    {
      "cell_type": "code",
      "metadata": {
        "id": "AwsENAlM5DeY",
        "colab_type": "code",
        "colab": {}
      },
      "source": [
        "import pandas as pd\n",
        "import numpy as np\n",
        "import pickle\n",
        "from keras.preprocessing.text import Tokenizer\n",
        "from keras.models import Sequential\n",
        "from keras.layers import Activation, Dense, Dropout\n",
        "from sklearn.preprocessing import LabelBinarizer\n",
        "import sklearn.datasets as skds\n",
        "from pathlib import Path"
      ],
      "execution_count": 0,
      "outputs": []
    },
    {
      "cell_type": "code",
      "metadata": {
        "id": "RPws556aI1La",
        "colab_type": "code",
        "colab": {}
      },
      "source": [
        "df = pd.read_csv('/content/drive/My Drive/Deep_learning_tfidf/Iraq_data.csv')"
      ],
      "execution_count": 0,
      "outputs": []
    },
    {
      "cell_type": "code",
      "metadata": {
        "id": "xagJ8RAGzgG_",
        "colab_type": "code",
        "colab": {
          "base_uri": "https://localhost:8080/",
          "height": 419
        },
        "outputId": "ca432333-8880-495e-975a-9f7f93bffe1c"
      },
      "source": [
        "df = df.loc[(df['DocType']==\"Public\") | (df[\"DocType\"]==\"Private\"),:]\n",
        "df.loc[:,'DocType_id'] = df['DocType'].map({\"Public\":0, \"Private\":1})\n",
        "df"
      ],
      "execution_count": 83,
      "outputs": [
        {
          "output_type": "execute_result",
          "data": {
            "text/html": [
              "<div>\n",
              "<style scoped>\n",
              "    .dataframe tbody tr th:only-of-type {\n",
              "        vertical-align: middle;\n",
              "    }\n",
              "\n",
              "    .dataframe tbody tr th {\n",
              "        vertical-align: top;\n",
              "    }\n",
              "\n",
              "    .dataframe thead th {\n",
              "        text-align: right;\n",
              "    }\n",
              "</style>\n",
              "<table border=\"1\" class=\"dataframe\">\n",
              "  <thead>\n",
              "    <tr style=\"text-align: right;\">\n",
              "      <th></th>\n",
              "      <th>Text</th>\n",
              "      <th>DocType</th>\n",
              "      <th>DocType_id</th>\n",
              "    </tr>\n",
              "  </thead>\n",
              "  <tbody>\n",
              "    <tr>\n",
              "      <th>0</th>\n",
              "      <td>combine joint task force drive overdose olive ...</td>\n",
              "      <td>Private</td>\n",
              "      <td>1</td>\n",
              "    </tr>\n",
              "    <tr>\n",
              "      <th>1</th>\n",
              "      <td>summary diyala explosive remnant war diyala na...</td>\n",
              "      <td>Private</td>\n",
              "      <td>1</td>\n",
              "    </tr>\n",
              "    <tr>\n",
              "      <th>2</th>\n",
              "      <td>mnd event unit may event isf soi command post ...</td>\n",
              "      <td>Private</td>\n",
              "      <td>1</td>\n",
              "    </tr>\n",
              "    <tr>\n",
              "      <th>3</th>\n",
              "      <td>final report unilateral report cache confirm d...</td>\n",
              "      <td>Private</td>\n",
              "      <td>1</td>\n",
              "    </tr>\n",
              "    <tr>\n",
              "      <th>4</th>\n",
              "      <td>mnd event unit mountain division light infantr...</td>\n",
              "      <td>Private</td>\n",
              "      <td>1</td>\n",
              "    </tr>\n",
              "    <tr>\n",
              "      <th>...</th>\n",
              "      <td>...</td>\n",
              "      <td>...</td>\n",
              "      <td>...</td>\n",
              "    </tr>\n",
              "    <tr>\n",
              "      <th>1685</th>\n",
              "      <td>fifth year run dyncorp international llc di re...</td>\n",
              "      <td>Public</td>\n",
              "      <td>0</td>\n",
              "    </tr>\n",
              "    <tr>\n",
              "      <th>1686</th>\n",
              "      <td>dyncorp international di gain important govern...</td>\n",
              "      <td>Public</td>\n",
              "      <td>0</td>\n",
              "    </tr>\n",
              "    <tr>\n",
              "      <th>1687</th>\n",
              "      <td>january dyncorp international di one first com...</td>\n",
              "      <td>Public</td>\n",
              "      <td>0</td>\n",
              "    </tr>\n",
              "    <tr>\n",
              "      <th>1688</th>\n",
              "      <td>november g job magazine ranked dyncorp interna...</td>\n",
              "      <td>Public</td>\n",
              "      <td>0</td>\n",
              "    </tr>\n",
              "    <tr>\n",
              "      <th>1689</th>\n",
              "      <td>fall washington business journal recognize dyn...</td>\n",
              "      <td>Public</td>\n",
              "      <td>0</td>\n",
              "    </tr>\n",
              "  </tbody>\n",
              "</table>\n",
              "<p>1690 rows × 3 columns</p>\n",
              "</div>"
            ],
            "text/plain": [
              "                                                   Text  DocType  DocType_id\n",
              "0     combine joint task force drive overdose olive ...  Private           1\n",
              "1     summary diyala explosive remnant war diyala na...  Private           1\n",
              "2     mnd event unit may event isf soi command post ...  Private           1\n",
              "3     final report unilateral report cache confirm d...  Private           1\n",
              "4     mnd event unit mountain division light infantr...  Private           1\n",
              "...                                                 ...      ...         ...\n",
              "1685  fifth year run dyncorp international llc di re...   Public           0\n",
              "1686  dyncorp international di gain important govern...   Public           0\n",
              "1687  january dyncorp international di one first com...   Public           0\n",
              "1688  november g job magazine ranked dyncorp interna...   Public           0\n",
              "1689  fall washington business journal recognize dyn...   Public           0\n",
              "\n",
              "[1690 rows x 3 columns]"
            ]
          },
          "metadata": {
            "tags": []
          },
          "execution_count": 83
        }
      ]
    },
    {
      "cell_type": "code",
      "metadata": {
        "id": "2mPEht_VJXeL",
        "colab_type": "code",
        "colab": {
          "base_uri": "https://localhost:8080/",
          "height": 429
        },
        "outputId": "6aa9b60b-c7fe-4cf8-c81e-e83c4877a35c"
      },
      "source": [
        "import matplotlib.pyplot as plt\n",
        "fig = plt.figure(figsize=(8,6))\n",
        "graph = df.groupby('DocType').Text.count().plot.bar(ylim=0)\n",
        "\n",
        "for p in graph.patches:\n",
        "        graph.annotate('{:.0f}'.format(p.get_height()), (p.get_x()+0.3, p.get_height()))\n",
        "graph.set_title('Data Distribution') \n",
        "plt.show()"
      ],
      "execution_count": 84,
      "outputs": [
        {
          "output_type": "display_data",
          "data": {
            "image/png": "[encoded data removed]",
            "text/plain": [
              "<Figure size 576x432 with 1 Axes>"
            ]
          },
          "metadata": {
            "tags": []
          }
        }
      ]
    },
    {
      "cell_type": "code",
      "metadata": {
        "id": "IsnUm4XpJkB1",
        "colab_type": "code",
        "colab": {
          "base_uri": "https://localhost:8080/",
          "height": 85
        },
        "outputId": "d5a5dafe-34ae-4d15-99c3-bfc1d461185a"
      },
      "source": [
        "Train_X, Test_X, Train_Y, Test_Y = model_selection.train_test_split(df['Text'],df['DocType_id'],test_size=0.2)\n",
        "print('Train_X: ', Train_X.shape[0])\n",
        "print('Train_Y: ', Train_Y.shape[0])\n",
        "print('Test_X :  ', Test_X.shape[0])\n",
        "print('Test_Y :  ', Test_Y.shape[0])"
      ],
      "execution_count": 85,
      "outputs": [
        {
          "output_type": "stream",
          "text": [
            "Train_X:  1352\n",
            "Train_Y:  1352\n",
            "Test_X :   338\n",
            "Test_Y :   338\n"
          ],
          "name": "stdout"
        }
      ]
    },
    {
      "cell_type": "code",
      "metadata": {
        "id": "POVEx_RbEbmx",
        "colab_type": "code",
        "colab": {
          "base_uri": "https://localhost:8080/",
          "height": 34
        },
        "outputId": "cafae35d-306c-4ca5-c22a-28e262b065f5"
      },
      "source": [
        "print(Train_X.shape)"
      ],
      "execution_count": 147,
      "outputs": [
        {
          "output_type": "stream",
          "text": [
            "(1352,)\n"
          ],
          "name": "stdout"
        }
      ]
    },
    {
      "cell_type": "code",
      "metadata": {
        "id": "g8jzD2gZ5qc1",
        "colab_type": "code",
        "colab": {
          "base_uri": "https://localhost:8080/",
          "height": 221
        },
        "outputId": "9a61f29a-c3b2-480d-93f7-40c49adfe4c8"
      },
      "source": [
        "print(Test_Y)"
      ],
      "execution_count": 92,
      "outputs": [
        {
          "output_type": "stream",
          "text": [
            "990     0\n",
            "1286    0\n",
            "1384    0\n",
            "489     1\n",
            "227     1\n",
            "       ..\n",
            "35      1\n",
            "968     1\n",
            "1243    0\n",
            "699     1\n",
            "207     1\n",
            "Name: DocType_id, Length: 338, dtype: int64\n"
          ],
          "name": "stdout"
        }
      ]
    },
    {
      "cell_type": "code",
      "metadata": {
        "id": "_W5ptuRuJkGL",
        "colab_type": "code",
        "colab": {
          "base_uri": "https://localhost:8080/",
          "height": 187
        },
        "outputId": "4fc7a9fa-1795-4e6b-a2ce-c0fa30e49276"
      },
      "source": [
        "Train_counts = pd.DataFrame(Train_Y.values, columns = list('a'))\n",
        "print('Train Data Distribution')\n",
        "print(Train_counts['a'].value_counts())\n",
        "\n",
        "Test_counts = pd.DataFrame(Test_Y.values, columns = list('a'))\n",
        "print('\\n\\nTest Data Distribution')\n",
        "print(Test_counts['a'].value_counts())"
      ],
      "execution_count": 93,
      "outputs": [
        {
          "output_type": "stream",
          "text": [
            "Train Data Distribution\n",
            "1    790\n",
            "0    562\n",
            "Name: a, dtype: int64\n",
            "\n",
            "\n",
            "Test Data Distribution\n",
            "1    187\n",
            "0    151\n",
            "Name: a, dtype: int64\n"
          ],
          "name": "stdout"
        }
      ]
    },
    {
      "cell_type": "code",
      "metadata": {
        "id": "TR7VLam-Ih6g",
        "colab_type": "code",
        "colab": {
          "base_uri": "https://localhost:8080/",
          "height": 51
        },
        "outputId": "054d999c-e806-4193-a64a-cb066b70e54a"
      },
      "source": [
        "Tfidf_vect = TfidfVectorizer(ngram_range=(1,2))\n",
        "#Learn the vocabulary\n",
        "Tfidf_vect.fit(df['Text'].values.astype('U'))\n",
        "Train_X_Tfidf = Tfidf_vect.transform(Train_X.values.astype('U'))\n",
        "print(\"Train Data (Text, Features):\", Train_X_Tfidf.shape)\n",
        "Test_X_Tfidf = Tfidf_vect.transform(Test_X.values.astype('U'))\n",
        "print(\"Test Data (Text, Features):\", Test_X_Tfidf.shape)"
      ],
      "execution_count": 98,
      "outputs": [
        {
          "output_type": "stream",
          "text": [
            "Train Data (Text, Features): (1352, 114913)\n",
            "Test Data (Text, Features): (338, 114913)\n"
          ],
          "name": "stdout"
        }
      ]
    },
    {
      "cell_type": "code",
      "metadata": {
        "id": "AiXdM4TfLdNl",
        "colab_type": "code",
        "colab": {
          "base_uri": "https://localhost:8080/",
          "height": 51
        },
        "outputId": "29a82497-2335-48ef-912f-99919c75c0a3"
      },
      "source": [
        "df_public = df.loc[df[\"DocType\"]==\"Public\",:]\n",
        "df_private = df.loc[df[\"DocType\"]==\"Private\"]\n",
        "features_public = Tfidf_vect.fit_transform(df_public.Text.values.astype('U'))\n",
        "features_private = Tfidf_vect.fit_transform(df_private.Text.values.astype('U'))\n",
        "labels_public = df_public.DocType_id\n",
        "labels_private = df_private.DocType_id\n",
        "print(\"Features for public train data\", features_public.shape)\n",
        "print(\"Features for private train data\", features_private.shape)"
      ],
      "execution_count": 108,
      "outputs": [
        {
          "output_type": "stream",
          "text": [
            "Features for public train data (713, 85141)\n",
            "Features for private train data (977, 32671)\n"
          ],
          "name": "stdout"
        }
      ]
    },
    {
      "cell_type": "code",
      "metadata": {
        "id": "HeYhyHM2okla",
        "colab_type": "code",
        "colab": {}
      },
      "source": [
        "num_labels = 2\n",
        "batch_size = 100\n",
        " \n",
        "# define Tokenizer with Vocab Size\n",
        "tokenizer = Tokenizer(num_words=114913)\n",
        "tokenizer.fit_on_texts(Train_X.astype('str'))\n",
        "\n",
        " \n",
        "\n",
        "x_train = tokenizer.texts_to_matrix(Train_X.astype('str'))\n",
        "x_test = tokenizer.texts_to_matrix(Test_X.astype('str'))\n",
        " \n",
        "encoder = LabelBinarizer()\n",
        "encoder.fit(Train_Y)\n",
        "y_train = encoder.transform(Train_Y)\n",
        "y_test = encoder.transform(Test_Y)"
      ],
      "execution_count": 0,
      "outputs": []
    },
    {
      "cell_type": "code",
      "metadata": {
        "id": "8OAX_TjmEQ1u",
        "colab_type": "code",
        "colab": {
          "base_uri": "https://localhost:8080/",
          "height": 34
        },
        "outputId": "58082b35-4efc-40e8-fef5-6510524da879"
      },
      "source": [
        "print(x_train.shape)"
      ],
      "execution_count": 149,
      "outputs": [
        {
          "output_type": "stream",
          "text": [
            "(1352, 114913)\n"
          ],
          "name": "stdout"
        }
      ]
    },
    {
      "cell_type": "code",
      "metadata": {
        "id": "VuLEm17vJu-3",
        "colab_type": "code",
        "colab": {
          "base_uri": "https://localhost:8080/",
          "height": 1000
        },
        "outputId": "d0bd93a7-cfc8-49b9-f74b-83b9c89f949c"
      },
      "source": [
        "print(y_test)"
      ],
      "execution_count": 175,
      "outputs": [
        {
          "output_type": "stream",
          "text": [
            "[[0]\n",
            " [0]\n",
            " [0]\n",
            " [1]\n",
            " [1]\n",
            " [1]\n",
            " [1]\n",
            " [0]\n",
            " [0]\n",
            " [1]\n",
            " [0]\n",
            " [1]\n",
            " [1]\n",
            " [0]\n",
            " [1]\n",
            " [1]\n",
            " [1]\n",
            " [0]\n",
            " [1]\n",
            " [1]\n",
            " [0]\n",
            " [1]\n",
            " [1]\n",
            " [1]\n",
            " [1]\n",
            " [1]\n",
            " [1]\n",
            " [1]\n",
            " [1]\n",
            " [1]\n",
            " [1]\n",
            " [0]\n",
            " [0]\n",
            " [0]\n",
            " [1]\n",
            " [0]\n",
            " [0]\n",
            " [0]\n",
            " [0]\n",
            " [1]\n",
            " [1]\n",
            " [1]\n",
            " [0]\n",
            " [0]\n",
            " [1]\n",
            " [1]\n",
            " [0]\n",
            " [1]\n",
            " [0]\n",
            " [0]\n",
            " [0]\n",
            " [0]\n",
            " [1]\n",
            " [1]\n",
            " [0]\n",
            " [0]\n",
            " [0]\n",
            " [0]\n",
            " [1]\n",
            " [0]\n",
            " [1]\n",
            " [0]\n",
            " [1]\n",
            " [1]\n",
            " [1]\n",
            " [1]\n",
            " [0]\n",
            " [1]\n",
            " [1]\n",
            " [1]\n",
            " [1]\n",
            " [0]\n",
            " [0]\n",
            " [1]\n",
            " [0]\n",
            " [0]\n",
            " [1]\n",
            " [0]\n",
            " [1]\n",
            " [0]\n",
            " [1]\n",
            " [1]\n",
            " [1]\n",
            " [1]\n",
            " [1]\n",
            " [0]\n",
            " [0]\n",
            " [1]\n",
            " [0]\n",
            " [0]\n",
            " [1]\n",
            " [1]\n",
            " [0]\n",
            " [0]\n",
            " [1]\n",
            " [1]\n",
            " [0]\n",
            " [0]\n",
            " [0]\n",
            " [1]\n",
            " [1]\n",
            " [1]\n",
            " [1]\n",
            " [1]\n",
            " [0]\n",
            " [1]\n",
            " [1]\n",
            " [1]\n",
            " [1]\n",
            " [0]\n",
            " [1]\n",
            " [0]\n",
            " [1]\n",
            " [0]\n",
            " [1]\n",
            " [0]\n",
            " [1]\n",
            " [1]\n",
            " [1]\n",
            " [1]\n",
            " [1]\n",
            " [0]\n",
            " [1]\n",
            " [0]\n",
            " [1]\n",
            " [0]\n",
            " [1]\n",
            " [1]\n",
            " [0]\n",
            " [0]\n",
            " [1]\n",
            " [1]\n",
            " [1]\n",
            " [1]\n",
            " [0]\n",
            " [0]\n",
            " [0]\n",
            " [0]\n",
            " [0]\n",
            " [1]\n",
            " [0]\n",
            " [1]\n",
            " [0]\n",
            " [1]\n",
            " [1]\n",
            " [0]\n",
            " [1]\n",
            " [1]\n",
            " [0]\n",
            " [0]\n",
            " [0]\n",
            " [0]\n",
            " [1]\n",
            " [0]\n",
            " [1]\n",
            " [0]\n",
            " [1]\n",
            " [1]\n",
            " [1]\n",
            " [0]\n",
            " [0]\n",
            " [1]\n",
            " [1]\n",
            " [0]\n",
            " [1]\n",
            " [1]\n",
            " [1]\n",
            " [1]\n",
            " [0]\n",
            " [0]\n",
            " [1]\n",
            " [0]\n",
            " [1]\n",
            " [0]\n",
            " [0]\n",
            " [1]\n",
            " [0]\n",
            " [0]\n",
            " [1]\n",
            " [1]\n",
            " [0]\n",
            " [0]\n",
            " [1]\n",
            " [1]\n",
            " [1]\n",
            " [0]\n",
            " [0]\n",
            " [1]\n",
            " [1]\n",
            " [0]\n",
            " [0]\n",
            " [0]\n",
            " [0]\n",
            " [1]\n",
            " [1]\n",
            " [1]\n",
            " [1]\n",
            " [1]\n",
            " [0]\n",
            " [0]\n",
            " [0]\n",
            " [1]\n",
            " [0]\n",
            " [1]\n",
            " [0]\n",
            " [1]\n",
            " [1]\n",
            " [0]\n",
            " [0]\n",
            " [1]\n",
            " [1]\n",
            " [1]\n",
            " [0]\n",
            " [1]\n",
            " [0]\n",
            " [0]\n",
            " [1]\n",
            " [0]\n",
            " [1]\n",
            " [1]\n",
            " [0]\n",
            " [0]\n",
            " [1]\n",
            " [1]\n",
            " [1]\n",
            " [0]\n",
            " [1]\n",
            " [0]\n",
            " [1]\n",
            " [1]\n",
            " [0]\n",
            " [0]\n",
            " [0]\n",
            " [0]\n",
            " [0]\n",
            " [0]\n",
            " [1]\n",
            " [1]\n",
            " [0]\n",
            " [1]\n",
            " [1]\n",
            " [1]\n",
            " [0]\n",
            " [1]\n",
            " [1]\n",
            " [1]\n",
            " [0]\n",
            " [1]\n",
            " [1]\n",
            " [0]\n",
            " [0]\n",
            " [1]\n",
            " [0]\n",
            " [0]\n",
            " [0]\n",
            " [0]\n",
            " [0]\n",
            " [0]\n",
            " [1]\n",
            " [1]\n",
            " [1]\n",
            " [0]\n",
            " [1]\n",
            " [1]\n",
            " [0]\n",
            " [1]\n",
            " [0]\n",
            " [1]\n",
            " [1]\n",
            " [0]\n",
            " [1]\n",
            " [1]\n",
            " [0]\n",
            " [0]\n",
            " [1]\n",
            " [0]\n",
            " [1]\n",
            " [0]\n",
            " [1]\n",
            " [0]\n",
            " [1]\n",
            " [1]\n",
            " [1]\n",
            " [0]\n",
            " [1]\n",
            " [1]\n",
            " [1]\n",
            " [0]\n",
            " [1]\n",
            " [1]\n",
            " [0]\n",
            " [1]\n",
            " [0]\n",
            " [1]\n",
            " [1]\n",
            " [1]\n",
            " [0]\n",
            " [1]\n",
            " [0]\n",
            " [1]\n",
            " [1]\n",
            " [0]\n",
            " [0]\n",
            " [1]\n",
            " [1]\n",
            " [1]\n",
            " [0]\n",
            " [1]\n",
            " [0]\n",
            " [1]\n",
            " [0]\n",
            " [1]\n",
            " [0]\n",
            " [0]\n",
            " [0]\n",
            " [1]\n",
            " [1]\n",
            " [0]\n",
            " [0]\n",
            " [1]\n",
            " [1]\n",
            " [1]\n",
            " [1]\n",
            " [1]\n",
            " [0]\n",
            " [0]\n",
            " [0]\n",
            " [0]\n",
            " [1]\n",
            " [0]\n",
            " [0]\n",
            " [1]\n",
            " [1]\n",
            " [1]\n",
            " [1]\n",
            " [0]\n",
            " [1]\n",
            " [1]]\n"
          ],
          "name": "stdout"
        }
      ]
    },
    {
      "cell_type": "code",
      "metadata": {
        "id": "GN5PyVtLpwAr",
        "colab_type": "code",
        "colab": {}
      },
      "source": [
        "encoder = LabelBinarizer()\n",
        "encoder.fit(Train_Y)\n",
        "y_train = encoder.transform(Train_Y)\n",
        "y_test = encoder.transform(Test_Y)"
      ],
      "execution_count": 0,
      "outputs": []
    },
    {
      "cell_type": "code",
      "metadata": {
        "id": "7bt2KWiPskO7",
        "colab_type": "code",
        "colab": {
          "base_uri": "https://localhost:8080/",
          "height": 802
        },
        "outputId": "5213cc29-c0d7-4158-ba89-d8bf0e2dfb79"
      },
      "source": [
        "model = Sequential()\n",
        "model.add(Dense(32, input_shape=(114913,)))\n",
        "model.add(Activation('relu'))\n",
        "model.add(Dropout(0.3))\n",
        "model.add(Dense(32))\n",
        "model.add(Activation('relu'))\n",
        "model.add(Dropout(0.3))\n",
        "model.add(Dense(1))\n",
        "model.add(Activation('sigmoid'))\n",
        "model.summary()\n",
        " \n",
        "model.compile(loss='binary_crossentropy',\n",
        "              optimizer='adam',\n",
        "              metrics=['accuracy'])\n",
        " \n",
        "history = model.fit(x_train, y_train,\n",
        "                    batch_size=batch_size,\n",
        "                    epochs=10,\n",
        "                    verbose=1,\n",
        "                    validation_split=0.1)"
      ],
      "execution_count": 163,
      "outputs": [
        {
          "output_type": "stream",
          "text": [
            "Model: \"sequential_31\"\n",
            "_________________________________________________________________\n",
            "Layer (type)                 Output Shape              Param #   \n",
            "=================================================================\n",
            "dense_87 (Dense)             (None, 32)                3677248   \n",
            "_________________________________________________________________\n",
            "activation_85 (Activation)   (None, 32)                0         \n",
            "_________________________________________________________________\n",
            "dropout_58 (Dropout)         (None, 32)                0         \n",
            "_________________________________________________________________\n",
            "dense_88 (Dense)             (None, 32)                1056      \n",
            "_________________________________________________________________\n",
            "activation_86 (Activation)   (None, 32)                0         \n",
            "_________________________________________________________________\n",
            "dropout_59 (Dropout)         (None, 32)                0         \n",
            "_________________________________________________________________\n",
            "dense_89 (Dense)             (None, 1)                 33        \n",
            "_________________________________________________________________\n",
            "activation_87 (Activation)   (None, 1)                 0         \n",
            "=================================================================\n",
            "Total params: 3,678,337\n",
            "Trainable params: 3,678,337\n",
            "Non-trainable params: 0\n",
            "_________________________________________________________________\n",
            "Train on 1216 samples, validate on 136 samples\n",
            "Epoch 1/10\n",
            "1216/1216 [==============================] - 3s 2ms/step - loss: 0.4529 - acc: 0.9474 - val_loss: 0.1504 - val_acc: 1.0000\n",
            "Epoch 2/10\n",
            "1216/1216 [==============================] - 1s 695us/step - loss: 0.1151 - acc: 0.9967 - val_loss: 0.0412 - val_acc: 1.0000\n",
            "Epoch 3/10\n",
            "1216/1216 [==============================] - 1s 707us/step - loss: 0.0465 - acc: 0.9984 - val_loss: 0.0200 - val_acc: 1.0000\n",
            "Epoch 4/10\n",
            "1216/1216 [==============================] - 1s 704us/step - loss: 0.0242 - acc: 0.9984 - val_loss: 0.0129 - val_acc: 1.0000\n",
            "Epoch 5/10\n",
            "1216/1216 [==============================] - 1s 706us/step - loss: 0.0163 - acc: 0.9992 - val_loss: 0.0094 - val_acc: 1.0000\n",
            "Epoch 6/10\n",
            "1216/1216 [==============================] - 1s 697us/step - loss: 0.0108 - acc: 0.9992 - val_loss: 0.0075 - val_acc: 1.0000\n",
            "Epoch 7/10\n",
            "1216/1216 [==============================] - 1s 690us/step - loss: 0.0094 - acc: 0.9992 - val_loss: 0.0063 - val_acc: 1.0000\n",
            "Epoch 8/10\n",
            "1216/1216 [==============================] - 1s 696us/step - loss: 0.0071 - acc: 1.0000 - val_loss: 0.0053 - val_acc: 1.0000\n",
            "Epoch 9/10\n",
            "1216/1216 [==============================] - 1s 686us/step - loss: 0.0057 - acc: 1.0000 - val_loss: 0.0046 - val_acc: 1.0000\n",
            "Epoch 10/10\n",
            "1216/1216 [==============================] - 1s 688us/step - loss: 0.0049 - acc: 1.0000 - val_loss: 0.0040 - val_acc: 1.0000\n"
          ],
          "name": "stdout"
        }
      ]
    },
    {
      "cell_type": "code",
      "metadata": {
        "id": "r3VHk3FAsqzl",
        "colab_type": "code",
        "colab": {
          "base_uri": "https://localhost:8080/",
          "height": 51
        },
        "outputId": "6c6dc130-d3cf-499e-93f8-96db30eebb9e"
      },
      "source": [
        "score = model.evaluate(x_test, y_test,\n",
        "                       batch_size=batch_size, verbose=1)\n",
        " \n",
        "print('Test accuracy:', score[1])\n",
        " \n",
        "text_labels = encoder.classes_\n",
        " \n"
      ],
      "execution_count": 164,
      "outputs": [
        {
          "output_type": "stream",
          "text": [
            "338/338 [==============================] - 0s 542us/step\n",
            "Test accuracy: 0.9970414229398649\n"
          ],
          "name": "stdout"
        }
      ]
    },
    {
      "cell_type": "code",
      "metadata": {
        "id": "1vvKUiM22dwP",
        "colab_type": "code",
        "colab": {
          "base_uri": "https://localhost:8080/",
          "height": 268
        },
        "outputId": "36726b92-2190-4ff2-d87c-873ededd339f"
      },
      "source": [
        "score = model.evaluate(x_test, y_test,\n",
        "                       batch_size=batch_size, verbose=1)\n",
        " \n",
        "print('Test accuracy:', score[1])\n",
        " \n",
        "text_labels = encoder.classes_\n",
        " \n",
        "for i in range(10):\n",
        "    prediction = model.predict(np.array([x_test[i]]))\n",
        "    predicted_label = text_labels[np.argmax(prediction[0])]\n",
        "    #print(test_files_names.iloc[i])\n",
        "    print('Actual label:' + y_test[6])\n",
        "    print(\"Predicted label: \" + predicted_label)"
      ],
      "execution_count": 185,
      "outputs": [
        {
          "output_type": "stream",
          "text": [
            "338/338 [==============================] - 0s 541us/step\n",
            "Test accuracy: 0.9970414229398649\n"
          ],
          "name": "stdout"
        },
        {
          "output_type": "error",
          "ename": "UFuncTypeError",
          "evalue": "ignored",
          "traceback": [
            "\u001b[0;31m---------------------------------------------------------------------------\u001b[0m",
            "\u001b[0;31mUFuncTypeError\u001b[0m                            Traceback (most recent call last)",
            "\u001b[0;32m<ipython-input-185-df890fca07b2>\u001b[0m in \u001b[0;36m<module>\u001b[0;34m()\u001b[0m\n\u001b[1;32m     10\u001b[0m     \u001b[0mpredicted_label\u001b[0m \u001b[0;34m=\u001b[0m \u001b[0mtext_labels\u001b[0m\u001b[0;34m[\u001b[0m\u001b[0mnp\u001b[0m\u001b[0;34m.\u001b[0m\u001b[0margmax\u001b[0m\u001b[0;34m(\u001b[0m\u001b[0mprediction\u001b[0m\u001b[0;34m[\u001b[0m\u001b[0;36m0\u001b[0m\u001b[0;34m]\u001b[0m\u001b[0;34m)\u001b[0m\u001b[0;34m]\u001b[0m\u001b[0;34m\u001b[0m\u001b[0;34m\u001b[0m\u001b[0m\n\u001b[1;32m     11\u001b[0m     \u001b[0;31m#print(test_files_names.iloc[i])\u001b[0m\u001b[0;34m\u001b[0m\u001b[0;34m\u001b[0m\u001b[0;34m\u001b[0m\u001b[0m\n\u001b[0;32m---> 12\u001b[0;31m     \u001b[0mprint\u001b[0m\u001b[0;34m(\u001b[0m\u001b[0;34m'Actual label:'\u001b[0m \u001b[0;34m+\u001b[0m \u001b[0my_test\u001b[0m\u001b[0;34m[\u001b[0m\u001b[0;36m6\u001b[0m\u001b[0;34m]\u001b[0m\u001b[0;34m)\u001b[0m\u001b[0;34m\u001b[0m\u001b[0;34m\u001b[0m\u001b[0m\n\u001b[0m\u001b[1;32m     13\u001b[0m     \u001b[0mprint\u001b[0m\u001b[0;34m(\u001b[0m\u001b[0;34m\"Predicted label: \"\u001b[0m \u001b[0;34m+\u001b[0m \u001b[0mpredicted_label\u001b[0m\u001b[0;34m)\u001b[0m\u001b[0;34m\u001b[0m\u001b[0;34m\u001b[0m\u001b[0m\n",
            "\u001b[0;31mUFuncTypeError\u001b[0m: ufunc 'add' did not contain a loop with signature matching types (dtype('<U21'), dtype('<U21')) -> dtype('<U21')"
          ]
        }
      ]
    },
    {
      "cell_type": "code",
      "metadata": {
        "id": "32FDAeHO2kqs",
        "colab_type": "code",
        "colab": {}
      },
      "source": [
        ""
      ],
      "execution_count": 0,
      "outputs": []
    }
  ]
}