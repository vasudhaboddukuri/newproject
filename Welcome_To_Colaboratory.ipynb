{
  "nbformat": 4,
  "nbformat_minor": 0,
  "metadata": {
    "colab": {
      "name": "Welcome To Colaboratory",
      "provenance": [],
      "collapsed_sections": [],
      "toc_visible": true,
      "machine_shape": "hm",
      "include_colab_link": true
    },
    "kernelspec": {
      "name": "python3",
      "display_name": "Python 3"
    },
    "accelerator": "GPU"
  },
  "cells": [
    {
      "cell_type": "markdown",
      "metadata": {
        "id": "view-in-github",
        "colab_type": "text"
      },
      "source": [
        "<a href=\"https://colab.research.google.com/github/vasudhaboddukuri/newproject/blob/master/Welcome_To_Colaboratory.ipynb\" target=\"_parent\"><img src=\"https://colab.research.google.com/assets/colab-badge.svg\" alt=\"Open In Colab\"/></a>"
      ]
    },
    {
      "cell_type": "code",
      "metadata": {
        "id": "EoQg9JwcFM_0",
        "colab_type": "code",
        "colab": {
          "base_uri": "https://localhost:8080/",
          "height": 54
        },
        "outputId": "ded6c829-0ea6-47c9-fb7f-9cfcff7a9552"
      },
      "source": [
        "from google.colab import drive\n",
        "drive.mount('/content/drive')"
      ],
      "execution_count": 80,
      "outputs": [
        {
          "output_type": "stream",
          "text": [
            "Drive already mounted at /content/drive; to attempt to forcibly remount, call drive.mount(\"/content/drive\", force_remount=True).\n"
          ],
          "name": "stdout"
        }
      ]
    },
    {
      "cell_type": "code",
      "metadata": {
        "id": "zBIDqs4tE4rS",
        "colab_type": "code",
        "colab": {}
      },
      "source": [
        "from sklearn.feature_extraction.text import TfidfVectorizer\n",
        "from sklearn.multiclass import OneVsRestClassifier\n",
        "from sklearn.preprocessing import LabelEncoder\n",
        "from keras.models import Sequential\n",
        "from keras.layers import Dense, Dropout\n",
        "from keras.wrappers.scikit_learn import KerasClassifier\n",
        "from keras.utils import np_utils\n",
        "import pandas as pd"
      ],
      "execution_count": 0,
      "outputs": []
    },
    {
      "cell_type": "code",
      "metadata": {
        "id": "N1Uqts3cJ9iJ",
        "colab_type": "code",
        "colab": {}
      },
      "source": [
        "import pandas as pd\n",
        "import numpy as np\n",
        "from sklearn.feature_extraction.text import TfidfVectorizer\n",
        "from sklearn import model_selection, svm\n",
        "from sklearn.metrics import accuracy_score\n",
        "import matplotlib.pyplot as plt\n",
        "import seaborn as sns\n",
        "# from sklearn.feature_selection import chi2\n",
        "from sklearn.metrics import confusion_matrix\n",
        "\n",
        "from sklearn.model_selection import cross_val_score"
      ],
      "execution_count": 0,
      "outputs": []
    },
    {
      "cell_type": "code",
      "metadata": {
        "id": "RPws556aI1La",
        "colab_type": "code",
        "colab": {}
      },
      "source": [
        "df = pd.read_csv('/content/drive/My Drive/Deep_learning_tfidf/Iraq_data.csv')"
      ],
      "execution_count": 0,
      "outputs": []
    },
    {
      "cell_type": "code",
      "metadata": {
        "id": "xagJ8RAGzgG_",
        "colab_type": "code",
        "colab": {
          "base_uri": "https://localhost:8080/",
          "height": 419
        },
        "outputId": "b1f4c38d-5338-44bc-c302-823df52fd9a7"
      },
      "source": [
        "df = df.loc[(df['DocType']==\"Public\") | (df[\"DocType\"]==\"Private\"),:]\n",
        "df.loc[:,'DocType_id'] = df['DocType'].map({\"Public\":0, \"Private\":1})\n",
        "df"
      ],
      "execution_count": 45,
      "outputs": [
        {
          "output_type": "execute_result",
          "data": {
            "text/html": [
              "<div>\n",
              "<style scoped>\n",
              "    .dataframe tbody tr th:only-of-type {\n",
              "        vertical-align: middle;\n",
              "    }\n",
              "\n",
              "    .dataframe tbody tr th {\n",
              "        vertical-align: top;\n",
              "    }\n",
              "\n",
              "    .dataframe thead th {\n",
              "        text-align: right;\n",
              "    }\n",
              "</style>\n",
              "<table border=\"1\" class=\"dataframe\">\n",
              "  <thead>\n",
              "    <tr style=\"text-align: right;\">\n",
              "      <th></th>\n",
              "      <th>Text</th>\n",
              "      <th>DocType</th>\n",
              "      <th>DocType_id</th>\n",
              "    </tr>\n",
              "  </thead>\n",
              "  <tbody>\n",
              "    <tr>\n",
              "      <th>0</th>\n",
              "      <td>combine joint task force drive overdose olive ...</td>\n",
              "      <td>Private</td>\n",
              "      <td>1</td>\n",
              "    </tr>\n",
              "    <tr>\n",
              "      <th>1</th>\n",
              "      <td>summary diyala explosive remnant war diyala na...</td>\n",
              "      <td>Private</td>\n",
              "      <td>1</td>\n",
              "    </tr>\n",
              "    <tr>\n",
              "      <th>2</th>\n",
              "      <td>mnd event unit may event isf soi command post ...</td>\n",
              "      <td>Private</td>\n",
              "      <td>1</td>\n",
              "    </tr>\n",
              "    <tr>\n",
              "      <th>3</th>\n",
              "      <td>final report unilateral report cache confirm d...</td>\n",
              "      <td>Private</td>\n",
              "      <td>1</td>\n",
              "    </tr>\n",
              "    <tr>\n",
              "      <th>4</th>\n",
              "      <td>mnd event unit mountain division light infantr...</td>\n",
              "      <td>Private</td>\n",
              "      <td>1</td>\n",
              "    </tr>\n",
              "    <tr>\n",
              "      <th>...</th>\n",
              "      <td>...</td>\n",
              "      <td>...</td>\n",
              "      <td>...</td>\n",
              "    </tr>\n",
              "    <tr>\n",
              "      <th>1685</th>\n",
              "      <td>fifth year run dyncorp international llc di re...</td>\n",
              "      <td>Public</td>\n",
              "      <td>0</td>\n",
              "    </tr>\n",
              "    <tr>\n",
              "      <th>1686</th>\n",
              "      <td>dyncorp international di gain important govern...</td>\n",
              "      <td>Public</td>\n",
              "      <td>0</td>\n",
              "    </tr>\n",
              "    <tr>\n",
              "      <th>1687</th>\n",
              "      <td>january dyncorp international di one first com...</td>\n",
              "      <td>Public</td>\n",
              "      <td>0</td>\n",
              "    </tr>\n",
              "    <tr>\n",
              "      <th>1688</th>\n",
              "      <td>november g job magazine ranked dyncorp interna...</td>\n",
              "      <td>Public</td>\n",
              "      <td>0</td>\n",
              "    </tr>\n",
              "    <tr>\n",
              "      <th>1689</th>\n",
              "      <td>fall washington business journal recognize dyn...</td>\n",
              "      <td>Public</td>\n",
              "      <td>0</td>\n",
              "    </tr>\n",
              "  </tbody>\n",
              "</table>\n",
              "<p>1690 rows × 3 columns</p>\n",
              "</div>"
            ],
            "text/plain": [
              "                                                   Text  DocType  DocType_id\n",
              "0     combine joint task force drive overdose olive ...  Private           1\n",
              "1     summary diyala explosive remnant war diyala na...  Private           1\n",
              "2     mnd event unit may event isf soi command post ...  Private           1\n",
              "3     final report unilateral report cache confirm d...  Private           1\n",
              "4     mnd event unit mountain division light infantr...  Private           1\n",
              "...                                                 ...      ...         ...\n",
              "1685  fifth year run dyncorp international llc di re...   Public           0\n",
              "1686  dyncorp international di gain important govern...   Public           0\n",
              "1687  january dyncorp international di one first com...   Public           0\n",
              "1688  november g job magazine ranked dyncorp interna...   Public           0\n",
              "1689  fall washington business journal recognize dyn...   Public           0\n",
              "\n",
              "[1690 rows x 3 columns]"
            ]
          },
          "metadata": {
            "tags": []
          },
          "execution_count": 45
        }
      ]
    },
    {
      "cell_type": "code",
      "metadata": {
        "id": "2mPEht_VJXeL",
        "colab_type": "code",
        "colab": {
          "base_uri": "https://localhost:8080/",
          "height": 429
        },
        "outputId": "def68526-267c-4f24-ed33-335a30009fc0"
      },
      "source": [
        "import matplotlib.pyplot as plt\n",
        "fig = plt.figure(figsize=(8,6))\n",
        "graph = df.groupby('DocType').Text.count().plot.bar(ylim=0)\n",
        "\n",
        "for p in graph.patches:\n",
        "        graph.annotate('{:.0f}'.format(p.get_height()), (p.get_x()+0.3, p.get_height()))\n",
        "graph.set_title('Data Distribution') \n",
        "plt.show()"
      ],
      "execution_count": 43,
      "outputs": [
        {
          "output_type": "display_data",
          "data": {
            "image/png": "[encoded data removed]",
            "text/plain": [
              "<Figure size 576x432 with 1 Axes>"
            ]
          },
          "metadata": {
            "tags": []
          }
        }
      ]
    },
    {
      "cell_type": "code",
      "metadata": {
        "id": "IsnUm4XpJkB1",
        "colab_type": "code",
        "colab": {
          "base_uri": "https://localhost:8080/",
          "height": 85
        },
        "outputId": "1460470d-4ccc-49f8-ce5b-b19293db4c62"
      },
      "source": [
        "Train_X, Test_X, Train_Y, Test_Y = model_selection.train_test_split(df['Text'],df['DocType_id'],test_size=0.2)\n",
        "print('Train_X: ', Train_X.shape[0])\n",
        "print('Train_Y: ', Train_Y.shape[0])\n",
        "print('Test_X :  ', Test_X.shape[0])\n",
        "print('Test_Y :  ', Test_Y.shape[0])"
      ],
      "execution_count": 48,
      "outputs": [
        {
          "output_type": "stream",
          "text": [
            "Train_X:  1352\n",
            "Train_Y:  1352\n",
            "Test_X :   338\n",
            "Test_Y :   338\n"
          ],
          "name": "stdout"
        }
      ]
    },
    {
      "cell_type": "code",
      "metadata": {
        "id": "_W5ptuRuJkGL",
        "colab_type": "code",
        "colab": {
          "base_uri": "https://localhost:8080/",
          "height": 187
        },
        "outputId": "d7a7702b-f20f-4c23-bc4c-5320477ddd07"
      },
      "source": [
        "Train_counts = pd.DataFrame(Train_Y.values, columns = list('a'))\n",
        "print('Train Data Distribution')\n",
        "print(Train_counts['a'].value_counts())\n",
        "\n",
        "Test_counts = pd.DataFrame(Test_Y.values, columns = list('a'))\n",
        "print('\\n\\nTest Data Distribution')\n",
        "print(Test_counts['a'].value_counts())"
      ],
      "execution_count": 49,
      "outputs": [
        {
          "output_type": "stream",
          "text": [
            "Train Data Distribution\n",
            "1    781\n",
            "0    571\n",
            "Name: a, dtype: int64\n",
            "\n",
            "\n",
            "Test Data Distribution\n",
            "1    196\n",
            "0    142\n",
            "Name: a, dtype: int64\n"
          ],
          "name": "stdout"
        }
      ]
    },
    {
      "cell_type": "code",
      "metadata": {
        "id": "tSl0X0wSLtOz",
        "colab_type": "code",
        "colab": {
          "base_uri": "https://localhost:8080/",
          "height": 221
        },
        "outputId": "44e7b687-2591-4379-e9f9-5adb9405b998"
      },
      "source": [
        "print(df['Text'])"
      ],
      "execution_count": 50,
      "outputs": [
        {
          "output_type": "stream",
          "text": [
            "0       combine joint task force drive overdose olive ...\n",
            "1       summary diyala explosive remnant war diyala na...\n",
            "2       mnd event unit may event isf soi command post ...\n",
            "3       final report unilateral report cache confirm d...\n",
            "4       mnd event unit mountain division light infantr...\n",
            "                              ...                        \n",
            "1685    fifth year run dyncorp international llc di re...\n",
            "1686    dyncorp international di gain important govern...\n",
            "1687    january dyncorp international di one first com...\n",
            "1688    november g job magazine ranked dyncorp interna...\n",
            "1689    fall washington business journal recognize dyn...\n",
            "Name: Text, Length: 1690, dtype: object\n"
          ],
          "name": "stdout"
        }
      ]
    },
    {
      "cell_type": "code",
      "metadata": {
        "id": "KLp2BKfTH7Wn",
        "colab_type": "code",
        "colab": {
          "base_uri": "https://localhost:8080/",
          "height": 136
        },
        "outputId": "d0da936b-46d4-4e28-bbdd-50475b9fbd5f"
      },
      "source": [
        "# Tfidf_vect = TfidfVectorizer(sublinear_tf=True, min_df=5, norm='l2', encoding='ISO-8859-1', ngram_range=(1, 2))\n",
        "Tfidf_vect = TfidfVectorizer(ngram_range=(1,2))\n",
        "#Learn the vocabulary\n",
        "Tfidf_vect.fit(df['Text'].values.astype('U'))\n",
        "#x = v.fit_transform(df['Review'].values.astype('U')) "
      ],
      "execution_count": 24,
      "outputs": [
        {
          "output_type": "execute_result",
          "data": {
            "text/plain": [
              "TfidfVectorizer(analyzer='word', binary=False, decode_error='strict',\n",
              "                dtype=<class 'numpy.float64'>, encoding='utf-8',\n",
              "                input='content', lowercase=True, max_df=1.0, max_features=None,\n",
              "                min_df=1, ngram_range=(1, 2), norm='l2', preprocessor=None,\n",
              "                smooth_idf=True, stop_words=None, strip_accents=None,\n",
              "                sublinear_tf=False, token_pattern='(?u)\\\\b\\\\w\\\\w+\\\\b',\n",
              "                tokenizer=None, use_idf=True, vocabulary=None)"
            ]
          },
          "metadata": {
            "tags": []
          },
          "execution_count": 24
        }
      ]
    },
    {
      "cell_type": "code",
      "metadata": {
        "id": "g78QZMGzNU2t",
        "colab_type": "code",
        "colab": {
          "base_uri": "https://localhost:8080/",
          "height": 340
        },
        "outputId": "11b56e55-f18c-4a28-9bd2-1d4c1516f839"
      },
      "source": [
        "print(Train_Y)"
      ],
      "execution_count": 41,
      "outputs": [
        {
          "output_type": "stream",
          "text": [
            "[[[1. 0.]\n",
            "  [0. 1.]]\n",
            "\n",
            " [[1. 0.]\n",
            "  [0. 1.]]\n",
            "\n",
            " [[0. 1.]\n",
            "  [1. 0.]]\n",
            "\n",
            " ...\n",
            "\n",
            " [[1. 0.]\n",
            "  [0. 1.]]\n",
            "\n",
            " [[1. 0.]\n",
            "  [0. 1.]]\n",
            "\n",
            " [[0. 1.]\n",
            "  [1. 0.]]]\n"
          ],
          "name": "stdout"
        }
      ]
    },
    {
      "cell_type": "code",
      "metadata": {
        "id": "TR7VLam-Ih6g",
        "colab_type": "code",
        "colab": {
          "base_uri": "https://localhost:8080/",
          "height": 51
        },
        "outputId": "2e223fa2-4941-4f4c-f30c-fce720a88449"
      },
      "source": [
        "Train_X_Tfidf = Tfidf_vect.transform(Train_X.values.astype('U'))\n",
        "print(\"Train Data (Text, Features):\", Train_X_Tfidf.shape)\n",
        "Test_X_Tfidf = Tfidf_vect.transform(Test_X.values.astype('U'))\n",
        "print(\"Test Data (Text, Features):\", Test_X_Tfidf.shape)"
      ],
      "execution_count": 25,
      "outputs": [
        {
          "output_type": "stream",
          "text": [
            "Train Data (Text, Features): (1352, 114913)\n",
            "Test Data (Text, Features): (338, 114913)\n"
          ],
          "name": "stdout"
        }
      ]
    },
    {
      "cell_type": "code",
      "metadata": {
        "id": "AiXdM4TfLdNl",
        "colab_type": "code",
        "colab": {
          "base_uri": "https://localhost:8080/",
          "height": 51
        },
        "outputId": "20b25152-cf40-407e-b01c-6aae6d86bcfc"
      },
      "source": [
        "df_public = df.loc[df[\"DocType\"]==\"Public\",:]\n",
        "df_private = df.loc[df[\"DocType\"]==\"Private\"]\n",
        "features_public = Tfidf_vect.fit_transform(df_public.Text.values.astype('U'))\n",
        "features_private = Tfidf_vect.fit_transform(df_private.Text.values.astype('U'))\n",
        "labels_public = df_public.DocType_id\n",
        "labels_private = df_private.DocType_id\n",
        "print(\"Features for public train data\", features_public.shape)\n",
        "print(\"Features for private train data\", features_private.shape)"
      ],
      "execution_count": 14,
      "outputs": [
        {
          "output_type": "stream",
          "text": [
            "Features for public train data (713, 85141)\n",
            "Features for private train data (977, 32671)\n"
          ],
          "name": "stdout"
        }
      ]
    },
    {
      "cell_type": "code",
      "metadata": {
        "id": "-nW_2NQ4WI9h",
        "colab_type": "code",
        "colab": {}
      },
      "source": [
        "import pandas as pd\n",
        "import numpy as np\n",
        "import pickle\n",
        "from keras.preprocessing.text import Tokenizer\n",
        "from keras.models import Sequential\n",
        "from keras.layers import Activation, Dense, Dropout\n",
        "from sklearn.preprocessing import LabelBinarizer\n",
        "import sklearn.datasets as skds\n",
        "from pathlib import Path"
      ],
      "execution_count": 0,
      "outputs": []
    },
    {
      "cell_type": "code",
      "metadata": {
        "id": "vZ1vivrwrJb0",
        "colab_type": "code",
        "colab": {
          "base_uri": "https://localhost:8080/",
          "height": 221
        },
        "outputId": "32a3fdd6-7411-4229-9214-e68a6d1495b2"
      },
      "source": [
        "print(Train_X)"
      ],
      "execution_count": 19,
      "outputs": [
        {
          "output_type": "stream",
          "text": [
            "457     combine joint task force team explosive ordnan...\n",
            "565     engineer discover c feb km west khalidiyah c f...\n",
            "1072    join dyncorp international july first ever pul...\n",
            "88      explosive ordnance disposal clear x millimeter...\n",
            "263     nation late report confirm usf mnd event unit ...\n",
            "                              ...                        \n",
            "1191    dyncorp international team member fort worth t...\n",
            "1029    long work current employer even previous emplo...\n",
            "431     drive overdose olive drab green company comman...\n",
            "929     ip team found clear cluster bomb holy karbala ...\n",
            "1560    dyncorp international name one lead veteran fr...\n",
            "Name: Text, Length: 1352, dtype: object\n"
          ],
          "name": "stdout"
        }
      ]
    },
    {
      "cell_type": "code",
      "metadata": {
        "id": "HeYhyHM2okla",
        "colab_type": "code",
        "colab": {}
      },
      "source": [
        "num_labels = 2\n",
        "vocab_size = 1352\n",
        "batch_size = 100\n",
        " \n",
        "# define Tokenizer with Vocab Size\n",
        "tokenizer = Tokenizer(num_words=vocab_size)\n",
        "tokenizer.fit_on_texts(Train_X.astype('str'))\n",
        "\n",
        " \n",
        "\n",
        "x_train = tokenizer.texts_to_matrix(Train_X.astype('str'))\n",
        "x_test = tokenizer.texts_to_matrix(Test_X.astype('str'))\n",
        " \n",
        "encoder = LabelBinarizer()\n",
        "encoder.fit(Train_Y)\n",
        "y_train = encoder.transform(Train_Y)\n",
        "y_test = encoder.transform(Test_Y)"
      ],
      "execution_count": 0,
      "outputs": []
    },
    {
      "cell_type": "code",
      "metadata": {
        "id": "GN5PyVtLpwAr",
        "colab_type": "code",
        "colab": {}
      },
      "source": [
        "encoder = LabelBinarizer()\n",
        "encoder.fit(Train_Y)\n",
        "y_train = encoder.transform(Train_Y)\n",
        "y_test = encoder.transform(Test_Y)"
      ],
      "execution_count": 0,
      "outputs": []
    },
    {
      "cell_type": "code",
      "metadata": {
        "id": "Sie4PCnzvNf-",
        "colab_type": "code",
        "colab": {
          "base_uri": "https://localhost:8080/",
          "height": 221
        },
        "outputId": "cc5421ee-790a-400e-d146-dfb056e5c05b"
      },
      "source": [
        "print(Train_Y)"
      ],
      "execution_count": 63,
      "outputs": [
        {
          "output_type": "stream",
          "text": [
            "1611    0\n",
            "557     1\n",
            "1341    0\n",
            "357     1\n",
            "1629    0\n",
            "       ..\n",
            "812     1\n",
            "1673    0\n",
            "1041    0\n",
            "247     1\n",
            "1473    0\n",
            "Name: DocType_id, Length: 1352, dtype: int64\n"
          ],
          "name": "stdout"
        }
      ]
    },
    {
      "cell_type": "code",
      "metadata": {
        "id": "LkAot9UE0Ke7",
        "colab_type": "code",
        "colab": {
          "base_uri": "https://localhost:8080/",
          "height": 34
        },
        "outputId": "27f3d635-41c9-42cd-8577-cf4d2aa30b26"
      },
      "source": [
        "print(x_train.shape)"
      ],
      "execution_count": 64,
      "outputs": [
        {
          "output_type": "stream",
          "text": [
            "(1352, 114913)\n"
          ],
          "name": "stdout"
        }
      ]
    },
    {
      "cell_type": "code",
      "metadata": {
        "id": "6DS4sBsU0Ovz",
        "colab_type": "code",
        "colab": {
          "base_uri": "https://localhost:8080/",
          "height": 136
        },
        "outputId": "5a543ece-65e5-49d7-cf54-9685b72fa0c9"
      },
      "source": [
        "print(y_train)"
      ],
      "execution_count": 65,
      "outputs": [
        {
          "output_type": "stream",
          "text": [
            "[[0]\n",
            " [1]\n",
            " [0]\n",
            " ...\n",
            " [0]\n",
            " [1]\n",
            " [0]]\n"
          ],
          "name": "stdout"
        }
      ]
    },
    {
      "cell_type": "code",
      "metadata": {
        "id": "7bt2KWiPskO7",
        "colab_type": "code",
        "colab": {
          "base_uri": "https://localhost:8080/",
          "height": 1000
        },
        "outputId": "914de650-881d-4d57-ac3f-553616ad2dd9"
      },
      "source": [
        "model = Sequential()\n",
        "model.add(Dense(512, input_shape=(1352,)))\n",
        "model.add(Activation('relu'))\n",
        "model.add(Dropout(0.3))\n",
        "model.add(Dense(512))\n",
        "model.add(Activation('relu'))\n",
        "model.add(Dropout(0.3))\n",
        "model.add(Dense(1))\n",
        "model.add(Activation('sigmoid'))\n",
        "model.summary()\n",
        " \n",
        "model.compile(loss='sparse_categorical_crossentropy',\n",
        "              optimizer='adam',\n",
        "              metrics=['accuracy'])\n",
        " \n",
        "history = model.fit(x_train, y_train,\n",
        "                    batch_size=batch_size,\n",
        "                    epochs=30,\n",
        "                    verbose=1,\n",
        "                    validation_split=0.1)"
      ],
      "execution_count": 73,
      "outputs": [
        {
          "output_type": "stream",
          "text": [
            "Model: \"sequential_17\"\n",
            "_________________________________________________________________\n",
            "Layer (type)                 Output Shape              Param #   \n",
            "=================================================================\n",
            "dense_49 (Dense)             (None, 512)               692736    \n",
            "_________________________________________________________________\n",
            "activation_47 (Activation)   (None, 512)               0         \n",
            "_________________________________________________________________\n",
            "dropout_33 (Dropout)         (None, 512)               0         \n",
            "_________________________________________________________________\n",
            "dense_50 (Dense)             (None, 512)               262656    \n",
            "_________________________________________________________________\n",
            "activation_48 (Activation)   (None, 512)               0         \n",
            "_________________________________________________________________\n",
            "dropout_34 (Dropout)         (None, 512)               0         \n",
            "_________________________________________________________________\n",
            "dense_51 (Dense)             (None, 1)                 513       \n",
            "_________________________________________________________________\n",
            "activation_49 (Activation)   (None, 1)                 0         \n",
            "=================================================================\n",
            "Total params: 955,905\n",
            "Trainable params: 955,905\n",
            "Non-trainable params: 0\n",
            "_________________________________________________________________\n",
            "WARNING:tensorflow:From /usr/local/lib/python3.6/dist-packages/tensorflow_core/python/ops/math_grad.py:1424: where (from tensorflow.python.ops.array_ops) is deprecated and will be removed in a future version.\n",
            "Instructions for updating:\n",
            "Use tf.where in 2.0, which has the same broadcast rule as np.where\n",
            "WARNING:tensorflow:From /usr/local/lib/python3.6/dist-packages/keras/backend/tensorflow_backend.py:1033: The name tf.assign_add is deprecated. Please use tf.compat.v1.assign_add instead.\n",
            "\n",
            "WARNING:tensorflow:From /usr/local/lib/python3.6/dist-packages/keras/backend/tensorflow_backend.py:1020: The name tf.assign is deprecated. Please use tf.compat.v1.assign instead.\n",
            "\n",
            "WARNING:tensorflow:From /usr/local/lib/python3.6/dist-packages/keras/backend/tensorflow_backend.py:3005: The name tf.Session is deprecated. Please use tf.compat.v1.Session instead.\n",
            "\n",
            "Train on 1216 samples, validate on 136 samples\n",
            "Epoch 1/30\n",
            "WARNING:tensorflow:From /usr/local/lib/python3.6/dist-packages/keras/backend/tensorflow_backend.py:190: The name tf.get_default_session is deprecated. Please use tf.compat.v1.get_default_session instead.\n",
            "\n",
            "WARNING:tensorflow:From /usr/local/lib/python3.6/dist-packages/keras/backend/tensorflow_backend.py:197: The name tf.ConfigProto is deprecated. Please use tf.compat.v1.ConfigProto instead.\n",
            "\n",
            "WARNING:tensorflow:From /usr/local/lib/python3.6/dist-packages/keras/backend/tensorflow_backend.py:207: The name tf.global_variables is deprecated. Please use tf.compat.v1.global_variables instead.\n",
            "\n",
            "WARNING:tensorflow:From /usr/local/lib/python3.6/dist-packages/keras/backend/tensorflow_backend.py:216: The name tf.is_variable_initialized is deprecated. Please use tf.compat.v1.is_variable_initialized instead.\n",
            "\n",
            "WARNING:tensorflow:From /usr/local/lib/python3.6/dist-packages/keras/backend/tensorflow_backend.py:223: The name tf.variables_initializer is deprecated. Please use tf.compat.v1.variables_initializer instead.\n",
            "\n",
            "1216/1216 [==============================] - 9s 8ms/step - loss: nan - acc: 0.5888 - val_loss: nan - val_acc: 0.5441\n",
            "Epoch 2/30\n",
            "1216/1216 [==============================] - 0s 73us/step - loss: nan - acc: 0.5814 - val_loss: nan - val_acc: 0.5441\n",
            "Epoch 3/30\n",
            "1216/1216 [==============================] - 0s 69us/step - loss: nan - acc: 0.5814 - val_loss: nan - val_acc: 0.5441\n",
            "Epoch 4/30\n",
            "1216/1216 [==============================] - 0s 70us/step - loss: nan - acc: 0.5814 - val_loss: nan - val_acc: 0.5441\n",
            "Epoch 5/30\n",
            "1216/1216 [==============================] - 0s 70us/step - loss: nan - acc: 0.5814 - val_loss: nan - val_acc: 0.5441\n",
            "Epoch 6/30\n",
            "1216/1216 [==============================] - 0s 73us/step - loss: nan - acc: 0.5814 - val_loss: nan - val_acc: 0.5441\n",
            "Epoch 7/30\n",
            "1216/1216 [==============================] - 0s 71us/step - loss: nan - acc: 0.5814 - val_loss: nan - val_acc: 0.5441\n",
            "Epoch 8/30\n",
            "1216/1216 [==============================] - 0s 71us/step - loss: nan - acc: 0.5814 - val_loss: nan - val_acc: 0.5441\n",
            "Epoch 9/30\n",
            "1216/1216 [==============================] - 0s 73us/step - loss: nan - acc: 0.5814 - val_loss: nan - val_acc: 0.5441\n",
            "Epoch 10/30\n",
            "1216/1216 [==============================] - 0s 71us/step - loss: nan - acc: 0.5814 - val_loss: nan - val_acc: 0.5441\n",
            "Epoch 11/30\n",
            "1216/1216 [==============================] - 0s 72us/step - loss: nan - acc: 0.5814 - val_loss: nan - val_acc: 0.5441\n",
            "Epoch 12/30\n",
            "1216/1216 [==============================] - 0s 70us/step - loss: nan - acc: 0.5814 - val_loss: nan - val_acc: 0.5441\n",
            "Epoch 13/30\n",
            "1216/1216 [==============================] - 0s 71us/step - loss: nan - acc: 0.5814 - val_loss: nan - val_acc: 0.5441\n",
            "Epoch 14/30\n",
            "1216/1216 [==============================] - 0s 70us/step - loss: nan - acc: 0.5814 - val_loss: nan - val_acc: 0.5441\n",
            "Epoch 15/30\n",
            "1216/1216 [==============================] - 0s 71us/step - loss: nan - acc: 0.5814 - val_loss: nan - val_acc: 0.5441\n",
            "Epoch 16/30\n",
            "1216/1216 [==============================] - 0s 69us/step - loss: nan - acc: 0.5814 - val_loss: nan - val_acc: 0.5441\n",
            "Epoch 17/30\n",
            "1216/1216 [==============================] - 0s 70us/step - loss: nan - acc: 0.5814 - val_loss: nan - val_acc: 0.5441\n",
            "Epoch 18/30\n",
            "1216/1216 [==============================] - 0s 72us/step - loss: nan - acc: 0.5814 - val_loss: nan - val_acc: 0.5441\n",
            "Epoch 19/30\n",
            "1216/1216 [==============================] - 0s 74us/step - loss: nan - acc: 0.5814 - val_loss: nan - val_acc: 0.5441\n",
            "Epoch 20/30\n",
            "1216/1216 [==============================] - 0s 72us/step - loss: nan - acc: 0.5814 - val_loss: nan - val_acc: 0.5441\n",
            "Epoch 21/30\n",
            "1216/1216 [==============================] - 0s 74us/step - loss: nan - acc: 0.5814 - val_loss: nan - val_acc: 0.5441\n",
            "Epoch 22/30\n",
            "1216/1216 [==============================] - 0s 77us/step - loss: nan - acc: 0.5814 - val_loss: nan - val_acc: 0.5441\n",
            "Epoch 23/30\n",
            "1216/1216 [==============================] - 0s 71us/step - loss: nan - acc: 0.5814 - val_loss: nan - val_acc: 0.5441\n",
            "Epoch 24/30\n",
            "1216/1216 [==============================] - 0s 70us/step - loss: nan - acc: 0.5814 - val_loss: nan - val_acc: 0.5441\n",
            "Epoch 25/30\n",
            "1216/1216 [==============================] - 0s 69us/step - loss: nan - acc: 0.5814 - val_loss: nan - val_acc: 0.5441\n",
            "Epoch 26/30\n",
            "1216/1216 [==============================] - 0s 72us/step - loss: nan - acc: 0.5814 - val_loss: nan - val_acc: 0.5441\n",
            "Epoch 27/30\n",
            "1216/1216 [==============================] - 0s 70us/step - loss: nan - acc: 0.5814 - val_loss: nan - val_acc: 0.5441\n",
            "Epoch 28/30\n",
            "1216/1216 [==============================] - 0s 76us/step - loss: nan - acc: 0.5814 - val_loss: nan - val_acc: 0.5441\n",
            "Epoch 29/30\n",
            "1216/1216 [==============================] - 0s 72us/step - loss: nan - acc: 0.5814 - val_loss: nan - val_acc: 0.5441\n",
            "Epoch 30/30\n",
            "1216/1216 [==============================] - 0s 75us/step - loss: nan - acc: 0.5814 - val_loss: nan - val_acc: 0.5441\n"
          ],
          "name": "stdout"
        }
      ]
    },
    {
      "cell_type": "code",
      "metadata": {
        "id": "r3VHk3FAsqzl",
        "colab_type": "code",
        "colab": {
          "base_uri": "https://localhost:8080/",
          "height": 51
        },
        "outputId": "d1a60c1e-4036-47fd-fa83-996fd957d741"
      },
      "source": [
        "score = model.evaluate(x_test, y_test,\n",
        "                       batch_size=batch_size, verbose=1)\n",
        " \n",
        "print('Test accuracy:', score[1])\n",
        " \n",
        "text_labels = encoder.classes_\n",
        " \n"
      ],
      "execution_count": 74,
      "outputs": [
        {
          "output_type": "stream",
          "text": [
            "338/338 [==============================] - 0s 48us/step\n",
            "Test accuracy: 0.5739644843445727\n"
          ],
          "name": "stdout"
        }
      ]
    },
    {
      "cell_type": "code",
      "metadata": {
        "id": "1vvKUiM22dwP",
        "colab_type": "code",
        "colab": {
          "base_uri": "https://localhost:8080/",
          "height": 231
        },
        "outputId": "70373d33-d20f-4623-d2f2-1ad6d497b32b"
      },
      "source": [
        "for i in range(10):\n",
        "    prediction = model.predict(np.array([x_test[i]]))\n",
        "    predicted_label = text_labels[np.argmax(prediction[0])]\n",
        "    print(Predicted_label)\n",
        "   # print(test_files_names.iloc[i])\n",
        "   # print('Actual label:' + Test_Y.iloc[i])\n",
        "   # print(\"Predicted label: \" + predicted_label)"
      ],
      "execution_count": 79,
      "outputs": [
        {
          "output_type": "error",
          "ename": "NameError",
          "evalue": "ignored",
          "traceback": [
            "\u001b[0;31m---------------------------------------------------------------------------\u001b[0m",
            "\u001b[0;31mNameError\u001b[0m                                 Traceback (most recent call last)",
            "\u001b[0;32m<ipython-input-79-0adc2aa2ffb3>\u001b[0m in \u001b[0;36m<module>\u001b[0;34m()\u001b[0m\n\u001b[1;32m      2\u001b[0m     \u001b[0mprediction\u001b[0m \u001b[0;34m=\u001b[0m \u001b[0mmodel\u001b[0m\u001b[0;34m.\u001b[0m\u001b[0mpredict\u001b[0m\u001b[0;34m(\u001b[0m\u001b[0mnp\u001b[0m\u001b[0;34m.\u001b[0m\u001b[0marray\u001b[0m\u001b[0;34m(\u001b[0m\u001b[0;34m[\u001b[0m\u001b[0mx_test\u001b[0m\u001b[0;34m[\u001b[0m\u001b[0mi\u001b[0m\u001b[0;34m]\u001b[0m\u001b[0;34m]\u001b[0m\u001b[0;34m)\u001b[0m\u001b[0;34m)\u001b[0m\u001b[0;34m\u001b[0m\u001b[0;34m\u001b[0m\u001b[0m\n\u001b[1;32m      3\u001b[0m     \u001b[0mpredicted_label\u001b[0m \u001b[0;34m=\u001b[0m \u001b[0mtext_labels\u001b[0m\u001b[0;34m[\u001b[0m\u001b[0mnp\u001b[0m\u001b[0;34m.\u001b[0m\u001b[0margmax\u001b[0m\u001b[0;34m(\u001b[0m\u001b[0mprediction\u001b[0m\u001b[0;34m[\u001b[0m\u001b[0;36m0\u001b[0m\u001b[0;34m]\u001b[0m\u001b[0;34m)\u001b[0m\u001b[0;34m]\u001b[0m\u001b[0;34m\u001b[0m\u001b[0;34m\u001b[0m\u001b[0m\n\u001b[0;32m----> 4\u001b[0;31m     \u001b[0mprint\u001b[0m\u001b[0;34m(\u001b[0m\u001b[0mPredicted_label\u001b[0m\u001b[0;34m)\u001b[0m\u001b[0;34m\u001b[0m\u001b[0;34m\u001b[0m\u001b[0m\n\u001b[0m\u001b[1;32m      5\u001b[0m    \u001b[0;31m# print(test_files_names.iloc[i])\u001b[0m\u001b[0;34m\u001b[0m\u001b[0;34m\u001b[0m\u001b[0;34m\u001b[0m\u001b[0m\n\u001b[1;32m      6\u001b[0m    \u001b[0;31m# print('Actual label:' + Test_Y.iloc[i])\u001b[0m\u001b[0;34m\u001b[0m\u001b[0;34m\u001b[0m\u001b[0;34m\u001b[0m\u001b[0m\n",
            "\u001b[0;31mNameError\u001b[0m: name 'Predicted_label' is not defined"
          ]
        }
      ]
    },
    {
      "cell_type": "code",
      "metadata": {
        "id": "32FDAeHO2kqs",
        "colab_type": "code",
        "colab": {}
      },
      "source": [
        ""
      ],
      "execution_count": 0,
      "outputs": []
    }
  ]
}